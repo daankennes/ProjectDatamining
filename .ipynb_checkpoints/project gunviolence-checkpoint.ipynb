{
 "cells": [
  {
   "cell_type": "code",
   "execution_count": 36,
   "metadata": {},
   "outputs": [
    {
     "data": {
      "text/html": [
       "\n",
       "        <div>\n",
       "            <p><b>SparkContext</b></p>\n",
       "\n",
       "            <p><a href=\"http://172.16.243.244:4042\">Spark UI</a></p>\n",
       "\n",
       "            <dl>\n",
       "              <dt>Version</dt>\n",
       "                <dd><code>v2.3.1</code></dd>\n",
       "              <dt>Master</dt>\n",
       "                <dd><code>local[*]</code></dd>\n",
       "              <dt>AppName</dt>\n",
       "                <dd><code>PySparkShell</code></dd>\n",
       "            </dl>\n",
       "        </div>\n",
       "        "
      ],
      "text/plain": [
       "<SparkContext master=local[*] appName=PySparkShell>"
      ]
     },
     "execution_count": 36,
     "metadata": {},
     "output_type": "execute_result"
    }
   ],
   "source": [
    "sc"
   ]
  },
  {
   "cell_type": "code",
   "execution_count": 37,
   "metadata": {},
   "outputs": [
    {
     "data": {
      "text/html": [
       "<script>requirejs.config({paths: { 'plotly': ['https://cdn.plot.ly/plotly-latest.min']},});if(!window.Plotly) {{require(['plotly'],function(plotly) {window.Plotly=plotly;});}}</script>"
      ],
      "text/vnd.plotly.v1+html": [
       "<script>requirejs.config({paths: { 'plotly': ['https://cdn.plot.ly/plotly-latest.min']},});if(!window.Plotly) {{require(['plotly'],function(plotly) {window.Plotly=plotly;});}}</script>"
      ]
     },
     "metadata": {},
     "output_type": "display_data"
    }
   ],
   "source": [
    "# Import the required libraries \n",
    "from plotly.offline import init_notebook_mode, iplot\n",
    "from wordcloud import WordCloud, STOPWORDS\n",
    "import matplotlib.pyplot as plt\n",
    "import plotly.graph_objs as go\n",
    "from wordcloud import WordCloud\n",
    "from textblob import TextBlob \n",
    "import plotly.plotly as py\n",
    "from plotly import tools\n",
    "import seaborn as sns\n",
    "import pandas as pd\n",
    "import string, os, random\n",
    "import calendar\n",
    "from PIL import Image \n",
    "import numpy as np\n",
    "\n",
    "import folium \n",
    "from folium import plugins \n",
    "\n",
    "\n",
    "init_notebook_mode(connected=True)\n",
    "punc = string.punctuation\n",
    "from datetime import datetime\n",
    "\n",
    "## Load the dataset\n",
    "path = \"./gun-violence-data_01-2013_03-2018.csv\"\n",
    "\n",
    "## path = \"input/gun-violence-data_01-2013_03-2018.csv\"\n",
    "#df = pd.read_csv(path)\n",
    "\n",
    "rdd = sc.textFile('./gun-violence-data_01-2013_03-2018.csv')\n",
    "\n",
    "### Fix a row in the dataset \n",
    "### According to the author of this dataset, one particular incident is missing from the dataset \n",
    "### I have manually added this incident\n",
    "### Related Thread: https://www.kaggle.com/jameslko/gun-violence-data/discussion/55307\n",
    "#missing_row = ['sban_1', '2017-10-01', 'Nevada', 'Las Vegas', 'Mandalay Bay 3950 Blvd S', 59, 489, 'https://en.wikipedia.org/wiki/2017_Las_Vegas_shooting', 'https://en.wikipedia.org/wiki/2017_Las_Vegas_shooting', '-', '-', '-', '-', '-', '36.095', 'Hotel', \n",
    "#               '-115.171667', 47, 'Route 91 Harvest Festiva; concert, open fire from 32nd floor. 47 guns seized; TOTAL:59 kill, 489 inj, number shot TBD,girlfriend Marilou Danley POI', '-', '-', '-', '-', '-', '-', '-', '-', '-', '-']\n",
    "#df.loc[len(df)] = missing_row\n",
    "\n",
    "# Create some additional features\n",
    "#df['date'] = pd.to_datetime(df['date'])\n",
    "#df['year'] = df['date'].dt.year\n",
    "#df['month'] = df['date'].dt.month\n",
    "#df['monthday'] = df['date'].dt.day\n",
    "#df['weekday'] = df['date'].dt.weekday\n",
    "#df['loss'] = df['n_killed'] + df['n_injured']\n"
   ]
  },
  {
   "cell_type": "code",
   "execution_count": 22,
   "metadata": {},
   "outputs": [
    {
     "data": {
      "application/vnd.plotly.v1+json": {
       "data": [
        {
         "marker": {
          "color": [
           "rgba(10, 220, 150, 0.6)",
           "rgba(10, 220, 150, 0.6)",
           "rgba(10, 220, 150, 0.6)",
           "rgba(10, 220, 150, 0.6)",
           "rgba(10, 220, 150, 0.2)"
          ]
         },
         "name": "year count",
         "opacity": 0.75,
         "type": "bar",
         "uid": "8e16002a-cc75-11e8-9bf0-f218980fbee0",
         "x": [
          2017,
          2016,
          2015,
          2014,
          2018
         ],
         "y": [
          61402,
          58763,
          53579,
          51854,
          13802
         ]
        }
       ],
       "layout": {
        "height": 400,
        "legend": {
         "orientation": "h"
        },
        "title": "Wapen Incidenten per jaar"
       }
      },
      "text/html": [
       "<div id=\"f722f2ad-0842-49fb-a60c-9b538c02b741\" style=\"height: 400px; width: 100%;\" class=\"plotly-graph-div\"></div><script type=\"text/javascript\">require([\"plotly\"], function(Plotly) { window.PLOTLYENV=window.PLOTLYENV || {};window.PLOTLYENV.BASE_URL=\"https://plot.ly\";Plotly.newPlot(\"f722f2ad-0842-49fb-a60c-9b538c02b741\", [{\"marker\": {\"color\": [\"rgba(10, 220, 150, 0.6)\", \"rgba(10, 220, 150, 0.6)\", \"rgba(10, 220, 150, 0.6)\", \"rgba(10, 220, 150, 0.6)\", \"rgba(10, 220, 150, 0.2)\"]}, \"name\": \"year count\", \"opacity\": 0.75, \"x\": [2017, 2016, 2015, 2014, 2018], \"y\": [61402, 58763, 53579, 51854, 13802], \"type\": \"bar\", \"uid\": \"8e16002a-cc75-11e8-9bf0-f218980fbee0\"}], {\"height\": 400, \"legend\": {\"orientation\": \"h\"}, \"title\": \"Wapen Incidenten per jaar\"}, {\"showLink\": true, \"linkText\": \"Export to plot.ly\"})});</script>"
      ],
      "text/vnd.plotly.v1+html": [
       "<div id=\"f722f2ad-0842-49fb-a60c-9b538c02b741\" style=\"height: 400px; width: 100%;\" class=\"plotly-graph-div\"></div><script type=\"text/javascript\">require([\"plotly\"], function(Plotly) { window.PLOTLYENV=window.PLOTLYENV || {};window.PLOTLYENV.BASE_URL=\"https://plot.ly\";Plotly.newPlot(\"f722f2ad-0842-49fb-a60c-9b538c02b741\", [{\"marker\": {\"color\": [\"rgba(10, 220, 150, 0.6)\", \"rgba(10, 220, 150, 0.6)\", \"rgba(10, 220, 150, 0.6)\", \"rgba(10, 220, 150, 0.6)\", \"rgba(10, 220, 150, 0.2)\"]}, \"name\": \"year count\", \"opacity\": 0.75, \"x\": [2017, 2016, 2015, 2014, 2018], \"y\": [61402, 58763, 53579, 51854, 13802], \"type\": \"bar\", \"uid\": \"8e16002a-cc75-11e8-9bf0-f218980fbee0\"}], {\"height\": 400, \"legend\": {\"orientation\": \"h\"}, \"title\": \"Wapen Incidenten per jaar\"}, {\"showLink\": true, \"linkText\": \"Export to plot.ly\"})});</script>"
      ]
     },
     "metadata": {},
     "output_type": "display_data"
    }
   ],
   "source": [
    "# function to aggregate and return keys and values\n",
    "def create_stack_bar_data(col):\n",
    "    aggregated = df[col].value_counts()\n",
    "    x_values = aggregated.index.tolist()\n",
    "    y_values = aggregated.values.tolist()\n",
    "    return x_values, y_values\n",
    "\n",
    "x1, y1 = create_stack_bar_data('year')\n",
    "x1 = x1[:-1]\n",
    "y1 = y1[:-1]\n",
    "trace1 = go.Bar(x=x1, y=y1, opacity=0.75, name=\"year count\", marker=dict(color=['rgba(10, 220, 150, 0.6)', 'rgba(10, 220, 150, 0.6)', 'rgba(10, 220, 150, 0.6)', 'rgba(10, 220, 150, 0.6)','rgba(10, 220, 150, 0.2)']))\n",
    "layout = dict(height=400, title='Wapen Incidenten per jaar', legend=dict(orientation=\"h\"));\n",
    "fig = go.Figure(data=[trace1], layout=layout);\n",
    "iplot(fig);"
   ]
  }
 ],
 "metadata": {
  "kernelspec": {
   "display_name": "Python 3",
   "language": "python",
   "name": "python3"
  },
  "language_info": {
   "codemirror_mode": {
    "name": "ipython",
    "version": 3
   },
   "file_extension": ".py",
   "mimetype": "text/x-python",
   "name": "python",
   "nbconvert_exporter": "python",
   "pygments_lexer": "ipython3",
   "version": "3.7.0"
  }
 },
 "nbformat": 4,
 "nbformat_minor": 2
}
